{
  "nbformat": 4,
  "nbformat_minor": 0,
  "metadata": {
    "kernelspec": {
      "display_name": "Python 3",
      "language": "python",
      "name": "python3"
    },
    "language_info": {
      "codemirror_mode": {
        "name": "ipython",
        "version": 3
      },
      "file_extension": ".py",
      "mimetype": "text/x-python",
      "name": "python",
      "nbconvert_exporter": "python",
      "pygments_lexer": "ipython3",
      "version": "3.7.3"
    },
    "colab": {
      "name": "hw06_task.ipynb",
      "provenance": [],
      "include_colab_link": true
    }
  },
  "cells": [
    {
      "cell_type": "markdown",
      "metadata": {
        "id": "view-in-github",
        "colab_type": "text"
      },
      "source": [
        "<a href=\"https://colab.research.google.com/github/MRedor/ML/blob/hw06/hw06.ipynb\" target=\"_parent\"><img src=\"https://colab.research.google.com/assets/colab-badge.svg\" alt=\"Open In Colab\"/></a>"
      ]
    },
    {
      "cell_type": "markdown",
      "metadata": {
        "id": "GzTaqC9yB_tR",
        "colab_type": "text"
      },
      "source": [
        "# Нейронные сети\n",
        "__Суммарное количество баллов: 10__\n",
        "\n",
        "__Решение отправлять на `ml.course.practice@gmail.com`__\n",
        "\n",
        "__Тема письма: `[ML][HW06] <ФИ>`, где вместо `<ФИ>` указаны фамилия и имя__\n",
        "\n",
        "Для начала вам предстоит реализовать свой собственный backpropagation и протестировать его на реальных данных, а затем научиться обучать нейронные сети при помощи библиотеки `PyTorch` и использовать это умение для классификации классического набора данных CIFAR10."
      ]
    },
    {
      "cell_type": "code",
      "metadata": {
        "id": "CnGKDvjsB_tW",
        "colab_type": "code",
        "colab": {}
      },
      "source": [
        "import numpy as np\n",
        "import copy\n",
        "from sklearn.datasets import make_blobs, make_moons"
      ],
      "execution_count": 0,
      "outputs": []
    },
    {
      "cell_type": "markdown",
      "metadata": {
        "id": "fCldxoKiB_tb",
        "colab_type": "text"
      },
      "source": [
        "### Задание 1 (3 балла)\n",
        "Нейронные сети состоят из слоев, поэтому для начала понадобится реализовать их. Пока нам понадобятся только три:\n",
        "\n",
        "`Linear` - полносвязный слой, в котором `y = Wx + b`, где `y` - выход, `x` - вход, `W` - матрица весов, а `b` - смещение. \n",
        "\n",
        "`ReLU` - слой, соответствующий функции активации `y = max(0, x)`.\n",
        "\n",
        "`Softmax` - слой, соответствующий функции активации [softmax](https://ru.wikipedia.org/wiki/Softmax)\n",
        "\n",
        "\n",
        "#### Методы\n",
        "`forward(X)` - возвращает предсказанные для `X`. `X` может быть как вектором, так и батчем\n",
        "\n",
        "`backward(d)` - считает градиент при помощи обратного распространения ошибки. Возвращает новое значение `d`\n",
        "\n",
        "`update(alpha)` - обновляет веса (если необходимо) с заданой скоростью обучения"
      ]
    },
    {
      "cell_type": "code",
      "metadata": {
        "id": "2DPmdmYFB_td",
        "colab_type": "code",
        "colab": {}
      },
      "source": [
        "class Module:\n",
        "    def forward(self, x):\n",
        "        raise NotImplementedError()\n",
        "    \n",
        "    def backward(self, d):\n",
        "        raise NotImplementedError()\n",
        "        \n",
        "    def update(self, alpha):\n",
        "        pass\n",
        "        \n",
        "class Linear(Module):\n",
        "    def __init__(self, in_features, out_features):\n",
        "        t = 1 / np.sqrt(in_features)\n",
        "        self.w = np.random.uniform(-t, t, (in_features, out_features))\n",
        "        self.b = np.zeros(out_features)\n",
        "\n",
        "    def forward(self, x):\n",
        "        self.x = x\n",
        "        return np.dot(x, self.w) + self.b\n",
        "\n",
        "    def backward(self, d):\n",
        "        self.d = d\n",
        "        return np.dot(d, self.w.T)\n",
        "\n",
        "    def update(self, alpha):\n",
        "        self.w -= alpha * np.dot(self.x.T, self.d)\n",
        "        self.b -= alpha * self.d.mean(axis = 0) * self.x.shape[0]\n",
        "       \n",
        "    \n",
        "class ReLU(Module):\n",
        "    def __init__(self):\n",
        "        pass\n",
        "\n",
        "    def forward(self, x):\n",
        "        self.x = np.maximum(0, x)\n",
        "        return self.x\n",
        "\n",
        "    def backward(self, d):\n",
        "        return d * (self.x > 0)\n",
        "        \n",
        "        \n",
        "class Softmax(Module):\n",
        "    def __init__(self):\n",
        "        pass\n",
        "\n",
        "    def forward(self, x):\n",
        "        self.x = np.exp(x) / sum(np.exp(x))\n",
        "        return self.x\n",
        "\n",
        "    def backward(self, d):\n",
        "        return d * self.x * (1 - self.x)"
      ],
      "execution_count": 0,
      "outputs": []
    },
    {
      "cell_type": "markdown",
      "metadata": {
        "id": "X0H72_YxB_ti",
        "colab_type": "text"
      },
      "source": [
        "### Задание 2 (2 балла)\n",
        "Теперь сделаем саму нейронную сеть.\n",
        "\n",
        "#### Методы\n",
        "`fit(X, y)` - обучает нейронную сеть заданное число эпох. В каждой эпохе необходимо использовать [cross-entropy loss](https://ml-cheatsheet.readthedocs.io/en/latest/loss_functions.html#cross-entropy) для обучения, а так же производить обновления не по одному элементу, а используя батчи.\n",
        "\n",
        "`predict_proba(X)` - предсказывает вероятности классов для элементов `X`\n",
        "\n",
        "#### Параметры конструктора\n",
        "`modules` - список, состоящий из ранее реализованных модулей и описывающий слои нейронной сети. В конец необходимо добавить `Softmax`\n",
        "\n",
        "`epochs` - количество эпох обучения\n",
        "\n",
        "`alpha` - скорость обучения"
      ]
    },
    {
      "cell_type": "code",
      "metadata": {
        "id": "R2zfvGiPB_tk",
        "colab_type": "code",
        "colab": {}
      },
      "source": [
        "class MLPClassifier:\n",
        "    def __init__(self, modules, epochs=40, alpha=0.01):\n",
        "        self.modules = modules + [Softmax()]\n",
        "        self.epochs = epochs\n",
        "        self.alpha = alpha\n",
        "            \n",
        "    def fit(self, X, y):\n",
        "        n = len(self.modules)\n",
        "        for i in range(self.epochs):\n",
        "            front = X.copy()\n",
        "            for i in range(n):\n",
        "                front = self.modules[i].forward(front)\n",
        "\n",
        "            size = len(X)\n",
        "            ans = np.zeros((size, len(np.unique(y))))\n",
        "            ans[np.arange(size), y] = 1\n",
        "            back = (front - ans) / size\n",
        "\n",
        "            for i in range(n):\n",
        "                current = self.modules[n - i - 1]\n",
        "                back = current.backward(back)\n",
        "        \n",
        "    def predict_proba(self, X):\n",
        "        result = X.copy()\n",
        "        for i in range(len(self.modules)):\n",
        "            result = self.modules[i].forward(result)\n",
        "        return result\n",
        "        \n",
        "    def predict(self, X):\n",
        "        p = self.predict_proba(X)\n",
        "        return np.argmax(p, axis=1)"
      ],
      "execution_count": 0,
      "outputs": []
    },
    {
      "cell_type": "code",
      "metadata": {
        "id": "lG49qtvcB_tp",
        "colab_type": "code",
        "colab": {}
      },
      "source": [
        "p = MLPClassifier([\n",
        "    Linear(4, 64),\n",
        "    ReLU(),\n",
        "    Linear(64, 64),\n",
        "    ReLU(),\n",
        "    Linear(64, 2)\n",
        "])\n",
        "\n",
        "X = np.random.randn(50, 4)\n",
        "y = [(0 if x[0] > x[2]**2 or x[3]**3 > 0.5 else 1) for x in X]\n",
        "p.fit(X, y)"
      ],
      "execution_count": 0,
      "outputs": []
    },
    {
      "cell_type": "markdown",
      "metadata": {
        "id": "snGK4rNbB_ts",
        "colab_type": "text"
      },
      "source": [
        "### Задание 3 (2 балла)\n",
        "Протестируем наше решение на синтетических данных. Необходимо подобрать гиперпараметры, при которых качество полученных классификаторов будет достаточным.\n",
        "\n",
        "#### Оценка\n",
        "Accuracy на первом датасете больше 0.85 - +1 балл\n",
        "\n",
        "Accuracy на втором датасете больше 0.85 - +1 балл"
      ]
    },
    {
      "cell_type": "code",
      "metadata": {
        "id": "RitDPMYKB_tt",
        "colab_type": "code",
        "colab": {
          "base_uri": "https://localhost:8080/",
          "height": 35
        },
        "outputId": "81a80fb9-a8fe-4485-aed6-0e9d1d35305f"
      },
      "source": [
        "X, y = make_moons(400, noise=0.075)\n",
        "X_test, y_test = make_moons(400, noise=0.075)\n",
        "\n",
        "best_acc = 0\n",
        "for _ in range(25):\n",
        "    p = MLPClassifier([\n",
        "        Linear(2, 40),\n",
        "        ReLU(),\n",
        "        Linear(40, 80),\n",
        "        Linear(80, 80),\n",
        "        ReLU(),\n",
        "        Linear(80, 40),\n",
        "        Linear(40, 20),\n",
        "        Linear(20, 10), \n",
        "        ReLU(),\n",
        "        Linear(10, 2),\n",
        "    ])\n",
        "\n",
        "    p.fit(X, y)\n",
        "    best_acc = max(np.mean(p.predict(X_test) == y_test), best_acc)\n",
        "print(\"Accuracy\", best_acc)"
      ],
      "execution_count": 39,
      "outputs": [
        {
          "output_type": "stream",
          "text": [
            "Accuracy 0.8925\n"
          ],
          "name": "stdout"
        }
      ]
    },
    {
      "cell_type": "code",
      "metadata": {
        "id": "Fu92IgnJB_tw",
        "colab_type": "code",
        "colab": {
          "base_uri": "https://localhost:8080/",
          "height": 35
        },
        "outputId": "a2250261-ab3f-4d9f-cd08-082bf5db045b"
      },
      "source": [
        "X, y = make_blobs(400, 2, centers=[[0, 0], [2.5, 2.5], [-2.5, 3]])\n",
        "X_test, y_test = make_blobs(400, 2, centers=[[0, 0], [2.5, 2.5], [-2.5, 3]])\n",
        "best_acc = 0\n",
        "for _ in range(25):\n",
        "    p = MLPClassifier([\n",
        "        Linear(2, 80),\n",
        "        ReLU(),\n",
        "        Linear(80, 120),\n",
        "        ReLU(),\n",
        "        Linear(120, 80),\n",
        "        ReLU(),\n",
        "        Linear(80, 3)\n",
        "    ])\n",
        "\n",
        "    p.fit(X, y)\n",
        "    best_acc = max(np.mean(p.predict(X_test) == y_test), best_acc)\n",
        "print(\"Accuracy\", best_acc)"
      ],
      "execution_count": 29,
      "outputs": [
        {
          "output_type": "stream",
          "text": [
            "Accuracy 0.955\n"
          ],
          "name": "stdout"
        }
      ]
    },
    {
      "cell_type": "markdown",
      "metadata": {
        "id": "NZuQlFXQB_tz",
        "colab_type": "text"
      },
      "source": [
        "## PyTorch\n",
        "\n",
        "Для выполнения следующего задания понадобится PyTorch. [Инструкция по установке](https://pytorch.org/get-started/locally/)\n",
        "\n",
        "Если у вас нет GPU, то можно использовать [Google Colab](https://colab.research.google.com/)"
      ]
    },
    {
      "cell_type": "code",
      "metadata": {
        "id": "Sjeu5ZUjB_t0",
        "colab_type": "code",
        "colab": {}
      },
      "source": [
        "from torchvision import datasets, transforms\n",
        "from torch.utils.data import DataLoader\n",
        "import torch\n",
        "from tqdm import tqdm\n",
        "from torch import nn\n",
        "import torch.nn.functional as F\n",
        "import matplotlib.pyplot as plt"
      ],
      "execution_count": 0,
      "outputs": []
    },
    {
      "cell_type": "code",
      "metadata": {
        "id": "LLFZmjJ5B_t3",
        "colab_type": "code",
        "colab": {
          "base_uri": "https://localhost:8080/",
          "height": 110
        },
        "outputId": "2152bb52-0c88-4fae-bfab-6616763a197b"
      },
      "source": [
        "device = torch.device(\"cuda\" if torch.cuda.is_available() else \"cpu\")\n",
        "\n",
        "t = transforms.ToTensor()\n",
        "\n",
        "cifar_train = datasets.CIFAR10(\"/datasets/cifar10\", download=True, train=True, transform=t)\n",
        "train_loader = DataLoader(cifar_train, batch_size=1024, shuffle=True, pin_memory=torch.cuda.is_available())\n",
        "cifar_test = datasets.CIFAR10(\"/datasets/cifar10\", download=True, train=False, transform=t)\n",
        "test_loader = DataLoader(cifar_test, batch_size=1024, shuffle=False, pin_memory=torch.cuda.is_available())"
      ],
      "execution_count": 35,
      "outputs": [
        {
          "output_type": "stream",
          "text": [
            "  0%|          | 0/170498071 [00:00<?, ?it/s]"
          ],
          "name": "stderr"
        },
        {
          "output_type": "stream",
          "text": [
            "Downloading https://www.cs.toronto.edu/~kriz/cifar-10-python.tar.gz to /datasets/cifar10/cifar-10-python.tar.gz\n"
          ],
          "name": "stdout"
        },
        {
          "output_type": "stream",
          "text": [
            "170500096it [00:02, 70253834.25it/s]                               \n"
          ],
          "name": "stderr"
        },
        {
          "output_type": "stream",
          "text": [
            "Extracting /datasets/cifar10/cifar-10-python.tar.gz to /datasets/cifar10\n",
            "Files already downloaded and verified\n"
          ],
          "name": "stdout"
        }
      ]
    },
    {
      "cell_type": "markdown",
      "metadata": {
        "id": "ggfWLhoCB_t6",
        "colab_type": "text"
      },
      "source": [
        "### Задание 4 (3 балла)\n",
        "А теперь поработам с настоящими нейронными сетями и настоящими данными. Необходимо реализовать сверточную нейронную сеть, которая будет классифицировать изображения из датасета CIFAR10. Имплементируйте класс `Model` и функцию `calculate_loss`. \n",
        "\n",
        "Обратите внимание, что `Model` должна считать в конце `softmax`, т.к. мы решаем задачу классификации. Соответствеено, функция `calculate_loss` считает cross-entropy.\n",
        "\n",
        "Для успешного выполнения задания необходимо, чтобы `accuracy`, `mean precision` и `mean recall` были больше 0.5\n",
        "\n",
        "__Можно пользоваться всем содержимым библиотеки PyTorch.__"
      ]
    },
    {
      "cell_type": "code",
      "metadata": {
        "id": "uQCBrdJNB_t7",
        "colab_type": "code",
        "colab": {}
      },
      "source": [
        "class Model(nn.Module):\n",
        "    def __init__(self):\n",
        "        super().__init__()\n",
        "        self.conv1 = nn.Conv2d(3, 6, 5)\n",
        "        self.pool = nn.MaxPool2d(2, 2)\n",
        "        self.conv2 = nn.Conv2d(6, 16, 5)\n",
        "        self.lin = nn.Sequential(\n",
        "            nn.Linear(16 * 5 * 5, 120),\n",
        "            nn.Linear(120, 84),\n",
        "            nn.Linear(84, 10),\n",
        "            nn.Softmax(dim=-1)\n",
        "        )\n",
        "        \n",
        "    def forward(self, x):\n",
        "        x = self.pool(F.relu(self.conv1(x)))\n",
        "        x = self.pool(F.relu(self.conv2(x)))\n",
        "        x = x.view(-1, 16 * 5 * 5)\n",
        "        x = self.lin(x)\n",
        "        return x\n",
        "        \n",
        "def calculate_loss(X, y, model):\n",
        "    return F.cross_entropy(model.forward(X), y)"
      ],
      "execution_count": 0,
      "outputs": []
    },
    {
      "cell_type": "markdown",
      "metadata": {
        "id": "5l5DXimqB_t-",
        "colab_type": "text"
      },
      "source": [
        "Теперь обучим нашу модель. Для этого используем ранее созданные batch loader'ы."
      ]
    },
    {
      "cell_type": "code",
      "metadata": {
        "id": "i18CrCGdB_t_",
        "colab_type": "code",
        "colab": {}
      },
      "source": [
        "def train(model, epochs=100):\n",
        "    optimizer = torch.optim.Adam(model.parameters())\n",
        "    train_losses = []\n",
        "    test_losses = []\n",
        "    for i in range(epochs):\n",
        "        #Train\n",
        "        loss_mean = 0\n",
        "        elements = 0\n",
        "        for X, y in iter(train_loader):\n",
        "            X = X.to(device)\n",
        "            y = y.to(device)\n",
        "            loss = calculate_loss(X, y, model)\n",
        "            optimizer.zero_grad()\n",
        "            loss.backward()\n",
        "            optimizer.step()\n",
        "            loss_mean += loss.item() * len(X)\n",
        "            elements += len(X)\n",
        "        train_losses.append(loss_mean / elements)\n",
        "        #Test\n",
        "        loss_mean = 0 \n",
        "        elements = 0\n",
        "        for X, y in iter(test_loader):\n",
        "            X = X.to(device)\n",
        "            y = y.to(device)\n",
        "            loss = calculate_loss(X, y, model)\n",
        "            loss_mean += loss.item() * len(X)\n",
        "            elements += len(X)\n",
        "        test_losses.append(loss_mean / elements)\n",
        "        print(\"Epoch\", i, \"| Train loss\", train_losses[-1], \"| Test loss\", test_losses[-1])\n",
        "    return train_losses, test_losses"
      ],
      "execution_count": 0,
      "outputs": []
    },
    {
      "cell_type": "code",
      "metadata": {
        "scrolled": true,
        "id": "3HQnF90iB_uC",
        "colab_type": "code",
        "colab": {
          "base_uri": "https://localhost:8080/",
          "height": 1000
        },
        "outputId": "762abc7b-4397-4a7f-a036-0d0185d4dd36"
      },
      "source": [
        "model = Model().to(device)\n",
        "train_l, test_l = train(model)"
      ],
      "execution_count": 38,
      "outputs": [
        {
          "output_type": "stream",
          "text": [
            "Epoch 0 | Train loss 2.2521556816864012 | Test loss 2.1913139110565187\n",
            "Epoch 1 | Train loss 2.148758543319702 | Test loss 2.1123259387969973\n",
            "Epoch 2 | Train loss 2.0990522035980224 | Test loss 2.0791136882781984\n",
            "Epoch 3 | Train loss 2.0727798274230955 | Test loss 2.0643129993438722\n",
            "Epoch 4 | Train loss 2.0600695458984375 | Test loss 2.052592541885376\n",
            "Epoch 5 | Train loss 2.0495953192138674 | Test loss 2.048155556488037\n",
            "Epoch 6 | Train loss 2.0409027042388916 | Test loss 2.035593193435669\n",
            "Epoch 7 | Train loss 2.0297833438110353 | Test loss 2.0230214092254637\n",
            "Epoch 8 | Train loss 2.021015943222046 | Test loss 2.019719278717041\n",
            "Epoch 9 | Train loss 2.0121589141082765 | Test loss 2.0119871627807617\n",
            "Epoch 10 | Train loss 2.007831310958862 | Test loss 2.001854275894165\n",
            "Epoch 11 | Train loss 1.996696937789917 | Test loss 1.995379386138916\n",
            "Epoch 12 | Train loss 1.991981372833252 | Test loss 1.9899782066345215\n",
            "Epoch 13 | Train loss 1.9818152695465088 | Test loss 1.9858867305755614\n",
            "Epoch 14 | Train loss 1.9770345711517334 | Test loss 1.9781121017456054\n",
            "Epoch 15 | Train loss 1.9671604803466798 | Test loss 1.9751158170700074\n",
            "Epoch 16 | Train loss 1.9623543132400512 | Test loss 1.9830311904907227\n",
            "Epoch 17 | Train loss 1.9616412859344483 | Test loss 1.972269575881958\n",
            "Epoch 18 | Train loss 1.9564100446319581 | Test loss 1.9653508150100707\n",
            "Epoch 19 | Train loss 1.946392777519226 | Test loss 1.958972848892212\n",
            "Epoch 20 | Train loss 1.9440069158554076 | Test loss 1.9580662582397461\n",
            "Epoch 21 | Train loss 1.9376226903533935 | Test loss 1.948657495880127\n",
            "Epoch 22 | Train loss 1.9317314388275146 | Test loss 1.9431861732482911\n",
            "Epoch 23 | Train loss 1.9291414862060547 | Test loss 1.9445400020599366\n",
            "Epoch 24 | Train loss 1.928700278816223 | Test loss 1.936757211112976\n",
            "Epoch 25 | Train loss 1.9210757540893555 | Test loss 1.9375134014129638\n",
            "Epoch 26 | Train loss 1.9112661947631835 | Test loss 1.9304003776550294\n",
            "Epoch 27 | Train loss 1.9111611088180542 | Test loss 1.9277868633270263\n",
            "Epoch 28 | Train loss 1.9099534712600708 | Test loss 1.9310736589431763\n",
            "Epoch 29 | Train loss 1.9069104763793945 | Test loss 1.932338512802124\n",
            "Epoch 30 | Train loss 1.9076828776550292 | Test loss 1.9352283704757691\n",
            "Epoch 31 | Train loss 1.9010952895355224 | Test loss 1.918832312965393\n",
            "Epoch 32 | Train loss 1.8953948406600951 | Test loss 1.9283443231582642\n",
            "Epoch 33 | Train loss 1.8998725212860108 | Test loss 1.9147237285614014\n",
            "Epoch 34 | Train loss 1.8914612507629394 | Test loss 1.9123794773101808\n",
            "Epoch 35 | Train loss 1.8909202409744263 | Test loss 1.921253451538086\n",
            "Epoch 36 | Train loss 1.885726933822632 | Test loss 1.9147233129501342\n",
            "Epoch 37 | Train loss 1.8878596028137207 | Test loss 1.911322304725647\n",
            "Epoch 38 | Train loss 1.8923020084762574 | Test loss 1.9156500717163085\n",
            "Epoch 39 | Train loss 1.8822526972961426 | Test loss 1.9120044439315795\n",
            "Epoch 40 | Train loss 1.8821193120193482 | Test loss 1.906250083732605\n",
            "Epoch 41 | Train loss 1.8801665363693236 | Test loss 1.9061206287384034\n",
            "Epoch 42 | Train loss 1.8733846941757202 | Test loss 1.902945690727234\n",
            "Epoch 43 | Train loss 1.8729766650772095 | Test loss 1.901236137008667\n",
            "Epoch 44 | Train loss 1.8702179735946656 | Test loss 1.9036543684005738\n",
            "Epoch 45 | Train loss 1.8687397165298463 | Test loss 1.89888844165802\n",
            "Epoch 46 | Train loss 1.8694016330718994 | Test loss 1.9056269496917724\n",
            "Epoch 47 | Train loss 1.8687974599456787 | Test loss 1.9191159399032593\n",
            "Epoch 48 | Train loss 1.8771285894775391 | Test loss 1.9074334564208983\n",
            "Epoch 49 | Train loss 1.8646726961517335 | Test loss 1.899474337387085\n",
            "Epoch 50 | Train loss 1.8634637408065795 | Test loss 1.8929601356506347\n",
            "Epoch 51 | Train loss 1.862268119354248 | Test loss 1.893144673347473\n",
            "Epoch 52 | Train loss 1.8553651530075073 | Test loss 1.8946918310165406\n",
            "Epoch 53 | Train loss 1.8600258391952516 | Test loss 1.8953780885696412\n",
            "Epoch 54 | Train loss 1.861907482070923 | Test loss 1.896706588935852\n",
            "Epoch 55 | Train loss 1.8542434766387939 | Test loss 1.895142758178711\n",
            "Epoch 56 | Train loss 1.8563470121383667 | Test loss 1.890715461921692\n",
            "Epoch 57 | Train loss 1.8554625663757325 | Test loss 1.891203903579712\n",
            "Epoch 58 | Train loss 1.8544423630142213 | Test loss 1.890770213508606\n",
            "Epoch 59 | Train loss 1.8528357772445678 | Test loss 1.8892723421096802\n",
            "Epoch 60 | Train loss 1.8500508845901489 | Test loss 1.8995579555511475\n",
            "Epoch 61 | Train loss 1.8514142039871215 | Test loss 1.908505453491211\n",
            "Epoch 62 | Train loss 1.855827052307129 | Test loss 1.892606233215332\n",
            "Epoch 63 | Train loss 1.8459959423446655 | Test loss 1.8918060340881349\n",
            "Epoch 64 | Train loss 1.8459971622085571 | Test loss 1.8887520036697387\n",
            "Epoch 65 | Train loss 1.85036344039917 | Test loss 1.895430944442749\n",
            "Epoch 66 | Train loss 1.8433446957778932 | Test loss 1.886251780128479\n",
            "Epoch 67 | Train loss 1.8381230380630493 | Test loss 1.8845365940093994\n",
            "Epoch 68 | Train loss 1.8397863428497314 | Test loss 1.8878759685516358\n",
            "Epoch 69 | Train loss 1.8401294431686401 | Test loss 1.8860702919006347\n",
            "Epoch 70 | Train loss 1.8412476481246949 | Test loss 1.8942240203857421\n",
            "Epoch 71 | Train loss 1.8403147951126098 | Test loss 1.8921269079208374\n",
            "Epoch 72 | Train loss 1.8368402743911743 | Test loss 1.8892128038406373\n",
            "Epoch 73 | Train loss 1.8382398777770996 | Test loss 1.8850079788208007\n",
            "Epoch 74 | Train loss 1.8408241554641724 | Test loss 1.895598266029358\n",
            "Epoch 75 | Train loss 1.8442345917129517 | Test loss 1.8913218404769898\n",
            "Epoch 76 | Train loss 1.8334214874267578 | Test loss 1.8848832489013672\n",
            "Epoch 77 | Train loss 1.8371095510482789 | Test loss 1.887934740638733\n",
            "Epoch 78 | Train loss 1.8373306829071046 | Test loss 1.8848997428894043\n",
            "Epoch 79 | Train loss 1.8343846182250976 | Test loss 1.8815962366104126\n",
            "Epoch 80 | Train loss 1.8336287158584594 | Test loss 1.8813630697250365\n",
            "Epoch 81 | Train loss 1.832541329574585 | Test loss 1.8877342792510987\n",
            "Epoch 82 | Train loss 1.8340013581848145 | Test loss 1.8859455244064331\n",
            "Epoch 83 | Train loss 1.832700853919983 | Test loss 1.8866693557739258\n",
            "Epoch 84 | Train loss 1.8312522730636596 | Test loss 1.882879381942749\n",
            "Epoch 85 | Train loss 1.8295070734786987 | Test loss 1.8815399087905884\n",
            "Epoch 86 | Train loss 1.8301534490966798 | Test loss 1.8865937252044678\n",
            "Epoch 87 | Train loss 1.8285357707595826 | Test loss 1.8872189352035522\n",
            "Epoch 88 | Train loss 1.827010804901123 | Test loss 1.880631664466858\n",
            "Epoch 89 | Train loss 1.825603515586853 | Test loss 1.8888204444885255\n",
            "Epoch 90 | Train loss 1.8245509165191651 | Test loss 1.88226184425354\n",
            "Epoch 91 | Train loss 1.828431276664734 | Test loss 1.8879195295333862\n",
            "Epoch 92 | Train loss 1.8235886833190917 | Test loss 1.8802116905212403\n",
            "Epoch 93 | Train loss 1.826505235939026 | Test loss 1.8820477508544922\n",
            "Epoch 94 | Train loss 1.8236813393783569 | Test loss 1.877803158569336\n",
            "Epoch 95 | Train loss 1.8243393548583984 | Test loss 1.8847291244506836\n",
            "Epoch 96 | Train loss 1.8243133475112916 | Test loss 1.882054797744751\n",
            "Epoch 97 | Train loss 1.826965072555542 | Test loss 1.8800573822021485\n",
            "Epoch 98 | Train loss 1.820231428337097 | Test loss 1.8779548013687133\n",
            "Epoch 99 | Train loss 1.8196417367172242 | Test loss 1.8828238296508788\n"
          ],
          "name": "stdout"
        }
      ]
    },
    {
      "cell_type": "markdown",
      "metadata": {
        "id": "db2_KQAFB_uI",
        "colab_type": "text"
      },
      "source": [
        "Построим график функции потерь"
      ]
    },
    {
      "cell_type": "code",
      "metadata": {
        "id": "svhkRfR8B_uJ",
        "colab_type": "code",
        "colab": {
          "base_uri": "https://localhost:8080/",
          "height": 461
        },
        "outputId": "2c1a029f-355c-4010-909c-0a0ef57c0e62"
      },
      "source": [
        "plt.figure(figsize=(12, 6))\n",
        "plt.plot(range(len(train_l)), train_l, label=\"train\")\n",
        "plt.plot(range(len(test_l)), test_l, label=\"test\")\n",
        "plt.xlabel(\"Epoch\")\n",
        "plt.ylabel(\"Loss\")\n",
        "plt.legend()\n",
        "plt.tight_layout()\n",
        "plt.show()"
      ],
      "execution_count": 40,
      "outputs": [
        {
          "output_type": "display_data",
          "data": {
            "image/png": "[encoded data removed]",
            "text/plain": [
              "<Figure size 864x432 with 1 Axes>"
            ]
          },
          "metadata": {
            "tags": []
          }
        }
      ]
    },
    {
      "cell_type": "markdown",
      "metadata": {
        "id": "e33XDwvpB_uN",
        "colab_type": "text"
      },
      "source": [
        "И, наконец, посчитаем метрики"
      ]
    },
    {
      "cell_type": "code",
      "metadata": {
        "id": "TYFARUkjB_uN",
        "colab_type": "code",
        "colab": {
          "base_uri": "https://localhost:8080/",
          "height": 126
        },
        "outputId": "0ea77125-f409-4efb-a8b9-e173d0163713"
      },
      "source": [
        "true_positive = np.zeros(10)\n",
        "true_negative = np.zeros(10)\n",
        "false_positive = np.zeros(10)\n",
        "false_negative = np.zeros(10)\n",
        "accuracy = 0\n",
        "ctn = 0\n",
        "for X, y in iter(test_loader):\n",
        "    X = X.to(device)\n",
        "    y = y.to(device)\n",
        "    with torch.no_grad():\n",
        "        y_pred = model(X).max(dim=1)[1]\n",
        "    for i in range(10):\n",
        "        for pred, real in zip(y_pred, y):\n",
        "            if real == i:\n",
        "                if pred == real:\n",
        "                    true_positive[i] += 1\n",
        "                else:\n",
        "                    false_negative[i] += 1\n",
        "            else:\n",
        "                if pred == i:\n",
        "                    false_positive[i] += 1\n",
        "                else:\n",
        "                    true_negative[i] += 1\n",
        "            \n",
        "    accuracy += torch.sum(y_pred == y).item()\n",
        "    ctn += len(y)\n",
        "print(\"Overall accuracy\", accuracy / ctn)\n",
        "print(\"Precision\", true_positive / (true_positive + false_positive))\n",
        "print(\"Recall\", true_positive / (true_positive + false_negative))\n",
        "print(\"Mean Precision\", np.mean(true_positive / (true_positive + false_positive)))\n",
        "print(\"Mean Recall\", np.mean(true_positive / (true_positive + false_negative)))"
      ],
      "execution_count": 41,
      "outputs": [
        {
          "output_type": "stream",
          "text": [
            "Overall accuracy 0.5756\n",
            "Precision [0.69154229 0.74322733 0.48883375 0.38200474 0.53513514 0.48305085\n",
            " 0.62009132 0.59461967 0.67853881 0.59542656]\n",
            "Recall [0.556 0.631 0.394 0.484 0.495 0.456 0.679 0.641 0.743 0.677]\n",
            "Mean Precision 0.5812470444070639\n",
            "Mean Recall 0.5756\n"
          ],
          "name": "stdout"
        }
      ]
    }
  ]
}